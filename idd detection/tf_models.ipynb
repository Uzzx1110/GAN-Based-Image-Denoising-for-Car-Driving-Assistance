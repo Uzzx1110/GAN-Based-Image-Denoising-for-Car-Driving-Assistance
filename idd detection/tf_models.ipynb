{
 "cells": [
  {
   "cell_type": "code",
   "execution_count": 4,
   "id": "77759b74",
   "metadata": {},
   "outputs": [
    {
     "name": "stdout",
     "output_type": "stream",
     "text": [
      "{\n",
      "    \"image\": \"IDD_finegrained/Main_part/5206-6234/Images/5393.jpg\",\n",
      "    \"annos\": [\n",
      "        {\n",
      "            \"class\": \"motorcycle\",\n",
      "            \"bbox\": [\n",
      "                996.0,\n",
      "                619.0,\n",
      "                1086.0,\n",
      "                752.0\n",
      "            ]\n",
      "        },\n",
      "        {\n",
      "            \"class\": \"car\",\n",
      "            \"bbox\": [\n",
      "                855.6,\n",
      "                565.0,\n",
      "                958.9,\n",
      "                688.63\n",
      "            ]\n",
      "        }\n",
      "    ]\n",
      "}\n",
      "Warning: Cannot identify image file C:\\Users\\Sejal Hanmante\\OneDrive\\Desktop\\idd detection\\IDD_FGVD\\train\\images\\106.jpg. Skipping this file.\n"
     ]
    }
   ],
   "source": [
    "import os\n",
    "import json\n",
    "from PIL import Image, UnidentifiedImageError\n",
    "\n",
    "# Define paths\n",
    "dataset_dir = r'C:\\Users\\Sejal Hanmante\\OneDrive\\Desktop\\idd detection\\IDD_FGVD'\n",
    "image_dir = os.path.join(dataset_dir)  # No need to add subfolders, handled inside\n",
    "annotation_dir = os.path.join(dataset_dir)\n",
    "label_dir = os.path.join(dataset_dir, 'labels')\n",
    "\n",
    "# Ensure the label directories exist\n",
    "os.makedirs(os.path.join(label_dir, 'train'), exist_ok=True)\n",
    "os.makedirs(os.path.join(label_dir, 'val'), exist_ok=True)\n",
    "os.makedirs(os.path.join(label_dir, 'test'), exist_ok=True)\n",
    "\n",
    "# Define class mappings if applicable\n",
    "class_map = {'class_name_1': 0, 'class_name_2': 1}  # Example class mapping, adjust as per your classes\n",
    "\n",
    "# Function to convert JSON annotation to YOLO format\n",
    "def json_to_yolo(json_path, image_path, label_path):\n",
    "    try:\n",
    "        # Open the image and get its dimensions for normalization\n",
    "        img = Image.open(image_path)\n",
    "        img_width, img_height = img.size\n",
    "    except UnidentifiedImageError:\n",
    "        print(f\"Warning: Cannot identify image file {image_path}. Skipping this file.\")\n",
    "        return\n",
    "    except Exception as e:\n",
    "        print(f\"Error: {e}. Skipping {image_path}.\")\n",
    "        return\n",
    "\n",
    "    # Load the JSON annotation\n",
    "    try:\n",
    "        with open(json_path, 'r') as f:\n",
    "            data = json.load(f)\n",
    "    except Exception as e:\n",
    "        print(f\"Error: Failed to load JSON file {json_path}. Error: {e}. Skipping this file.\")\n",
    "        return\n",
    "\n",
    "    # Open a new .txt file to write the annotations\n",
    "    try:\n",
    "        with open(label_path, 'w') as label_file:\n",
    "            for obj in data.get('annotations', []):  # Look for 'annotations' key (adjust based on your structure)\n",
    "                class_name = obj.get('class', '')\n",
    "                class_id = class_map.get(class_name, None)\n",
    "                if class_id is None:\n",
    "                    continue  # Skip classes not in the mapping\n",
    "                \n",
    "                # Bounding box information\n",
    "                xmin, ymin, xmax, ymax = obj.get('bbox', [0, 0, 0, 0])\n",
    "                \n",
    "                # Normalize the coordinates\n",
    "                center_x = (xmin + xmax) / 2 / img_width\n",
    "                center_y = (ymin + ymax) / 2 / img_height\n",
    "                width = (xmax - xmin) / img_width\n",
    "                height = (ymax - ymin) / img_height\n",
    "                \n",
    "                # Write the annotation to the label file\n",
    "                label_file.write(f\"{class_id} {center_x} {center_y} {width} {height}\\n\")\n",
    "    except Exception as e:\n",
    "        print(f\"Error: Failed to write label file {label_path}. Error: {e}.\")\n",
    "\n",
    "# Function to inspect the structure of a sample JSON file\n",
    "def inspect_json_structure(json_path):\n",
    "    with open(json_path, 'r') as f:\n",
    "        data = json.load(f)\n",
    "    print(json.dumps(data, indent=4))  # Pretty print the JSON to inspect its structure\n",
    "\n",
    "# Example: Inspect the first JSON file in the 'train' set (You can skip this step once you know the structure)\n",
    "sample_json_path = os.path.join(annotation_dir, 'train', 'json', os.listdir(os.path.join(annotation_dir, 'train', 'json'))[0])\n",
    "inspect_json_structure(sample_json_path)\n",
    "\n",
    "# Loop through splits (train, val, test)\n",
    "for split in ['train', 'val', 'test']:\n",
    "    image_split_dir = os.path.join(image_dir, split, 'images')\n",
    "    annotation_split_dir = os.path.join(annotation_dir, split, 'json')\n",
    "    \n",
    "    # Loop through images in the split\n",
    "    for image_filename in os.listdir(image_split_dir):\n",
    "        if image_filename.endswith('.jpg') or image_filename.endswith('.png'):\n",
    "            image_path = os.path.join(image_split_dir, image_filename)\n",
    "            json_filename = image_filename.replace('.jpg', '.json').replace('.png', '.json')\n",
    "            json_path = os.path.join(annotation_split_dir, json_filename)\n",
    "            \n",
    "            # Ensure the JSON annotation exists\n",
    "            if os.path.exists(json_path):\n",
    "                # Label path corresponding to the image\n",
    "                label_path = os.path.join(label_dir, split, image_filename.replace('.jpg', '.txt').replace('.png', '.txt'))\n",
    "                \n",
    "                # Convert JSON annotation to YOLO format\n",
    "                json_to_yolo(json_path, image_path, label_path)\n"
   ]
  },
  {
   "cell_type": "markdown",
   "id": "cd1335a5",
   "metadata": {},
   "source": [
    "#### Model Training"
   ]
  },
  {
   "cell_type": "code",
   "execution_count": 1,
   "id": "a489194b",
   "metadata": {},
   "outputs": [
    {
     "ename": "",
     "evalue": "",
     "output_type": "error",
     "traceback": [
      "\u001b[1;31mThe Kernel crashed while executing code in the current cell or a previous cell. \n",
      "\u001b[1;31mPlease review the code in the cell(s) to identify a possible cause of the failure. \n",
      "\u001b[1;31mClick <a href='https://aka.ms/vscodeJupyterKernelCrash'>here</a> for more info. \n",
      "\u001b[1;31mView Jupyter <a href='command:jupyter.viewOutput'>log</a> for further details."
     ]
    }
   ],
   "source": [
    "!yolo train model=yolov8n.yaml data=\"C:/Users/Sejal Hanmante/OneDrive/Desktop/idd detection/IDD_FGVD/dataset.yaml\" epochs=50 batch=16 imgsz=640 verbose=True"
   ]
  },
  {
   "cell_type": "code",
   "execution_count": null,
   "id": "3cd6ebb2",
   "metadata": {},
   "outputs": [],
   "source": []
  }
 ],
 "metadata": {
  "kernelspec": {
   "display_name": "idd_detector",
   "language": "python",
   "name": "python3"
  },
  "language_info": {
   "codemirror_mode": {
    "name": "ipython",
    "version": 3
   },
   "file_extension": ".py",
   "mimetype": "text/x-python",
   "name": "python",
   "nbconvert_exporter": "python",
   "pygments_lexer": "ipython3",
   "version": "3.9.21"
  }
 },
 "nbformat": 4,
 "nbformat_minor": 5
}
